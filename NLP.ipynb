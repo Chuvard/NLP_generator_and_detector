{
 "cells": [
  {
   "cell_type": "markdown",
   "metadata": {},
   "source": [
    "[![Open In Colab](https://colab.research.google.com/assets/colab-badge.svg)](https://colab.research.google.com/github/Chuvard/NLP_generator_and_detector/blob/main/NLP.ipynb)"
   ]
  },
  {
   "cell_type": "markdown",
   "metadata": {},
   "source": [
    "## Outline\n",
    "\n",
    "1. Project overview\n",
    "2. Importing modules and libabies\n",
    "3. NLP Generator \n",
    "    * 3.1. Problem statement\n",
    "    * 3.2. Load and inspect the data\n",
    "    * 3.3. Model construction\n",
    "    * 3.4. Testing\n",
    "4. NLP Recognizer \n",
    "    * 4.1. Problem statement\n",
    "    * 4.2. Load and inspect the data\n",
    "    * 4.3. Model construction\n",
    "    * 4.4. Testing"
   ]
  },
  {
   "cell_type": "markdown",
   "metadata": {},
   "source": [
    "## 1. Project overview\n",
    "\n",
    "The project consists of two subprojects that use natural language processing techniques: one to generate text and the other to detect sarcastic sentiment in the text with the good accuracy."
   ]
  },
  {
   "cell_type": "markdown",
   "metadata": {},
   "source": [
    "## 2. Importing modules and libabies"
   ]
  },
  {
   "cell_type": "code",
   "execution_count": 3,
   "metadata": {},
   "outputs": [],
   "source": [
    "## Required libraries for generator\n",
    "import requests\n",
    "import numpy as np\n",
    "import matplotlib.pyplot as plt\n",
    "from tensorflow.keras.models import Sequential\n",
    "from tensorflow.keras.utils import to_categorical\n",
    "from tensorflow.keras.preprocessing.text import Tokenizer\n",
    "from tensorflow.keras.preprocessing.sequence import pad_sequences\n",
    "from tensorflow.keras.layers import Embedding, LSTM, Dense, Bidirectional\n",
    "\n",
    "## Required libraries for recognizer\n",
    "import requests\n",
    "import numpy as np\n",
    "import json\n",
    "import tensorflow as tf\n",
    "from tensorflow.keras.preprocessing.text import Tokenizer\n",
    "from tensorflow.keras.preprocessing.sequence import pad_sequences"
   ]
  },
  {
   "cell_type": "markdown",
   "metadata": {},
   "source": [
    "## 3. NLP Generator"
   ]
  },
  {
   "cell_type": "markdown",
   "metadata": {},
   "source": [
    "### 3.1. Problem statement\n",
    "\n",
    "The goal of this subproject is to build a model that predicts the next word in a text. We'll train this model using Shakespeare's sonnets and make some helper functions to prepare the data."
   ]
  },
  {
   "cell_type": "markdown",
   "metadata": {},
   "source": [
    "### 3.2. Load and inspect the data"
   ]
  },
  {
   "cell_type": "code",
   "execution_count": 17,
   "metadata": {},
   "outputs": [],
   "source": [
    "## Load data to train the model\n",
    "\n",
    "# Define path for file with sonnets\n",
    "SONNETS_FILE = 'https://raw.githubusercontent.com/Chuvard/NLP_generator_and_detector/main/data/sonnets.txt'\n",
    "\n",
    "# Read the data from the URL\n",
    "response = requests.get(SONNETS_FILE)\n",
    "data = response.text\n",
    "\n",
    "# Convert to lower case and save as a list\n",
    "corpus = data.lower().split(\"\\n\")"
   ]
  },
  {
   "cell_type": "code",
   "execution_count": 16,
   "metadata": {},
   "outputs": [
    {
     "name": "stdout",
     "output_type": "stream",
     "text": [
      "There are 2159 lines of sonnets\n",
      "\n",
      "The first 5 lines look like this:\n",
      "\n",
      "from fairest creatures we desire increase,\n",
      "that thereby beauty's rose might never die,\n",
      "but as the riper should by time decease,\n",
      "his tender heir might bear his memory:\n",
      "but thou, contracted to thine own bright eyes,\n"
     ]
    }
   ],
   "source": [
    "## Inspect the data\n",
    "print(f\"There are {len(corpus)} lines of sonnets\\n\")\n",
    "print(f\"The first 5 lines look like this:\\n\")\n",
    "for i in range(5):\n",
    "  print(corpus[i])"
   ]
  },
  {
   "cell_type": "markdown",
   "metadata": {},
   "source": [
    "### 3.3. Model construction"
   ]
  },
  {
   "cell_type": "markdown",
   "metadata": {},
   "source": [
    "#### Tokenizing the text\n",
    "\n",
    "Now fit the Tokenizer to the corpus and save the total number of words."
   ]
  },
  {
   "cell_type": "code",
   "execution_count": 5,
   "metadata": {},
   "outputs": [],
   "source": [
    "tokenizer = Tokenizer()\n",
    "tokenizer.fit_on_texts(corpus)\n",
    "total_words = len(tokenizer.word_index) + 1"
   ]
  },
  {
   "cell_type": "markdown",
   "metadata": {},
   "source": [
    "When converting the text into sequences we can use the `texts_to_sequences` method.\n",
    "\n",
    "In the next cells we will need to process this corpus one line at a time. Given this, it is important to keep in mind that the way we are feeding the data unto this method affects the result. Check the following example to make this clearer.\n",
    "\n",
    "The first example of the corpus is a string and looks like this:"
   ]
  },
  {
   "cell_type": "code",
   "execution_count": 6,
   "metadata": {},
   "outputs": [
    {
     "data": {
      "text/plain": [
       "'from fairest creatures we desire increase,'"
      ]
     },
     "execution_count": 6,
     "metadata": {},
     "output_type": "execute_result"
    }
   ],
   "source": [
    "corpus[0]"
   ]
  },
  {
   "cell_type": "markdown",
   "metadata": {},
   "source": [
    "If we pass this text directly into the `texts_to_sequences` method will get an unexpected result:"
   ]
  },
  {
   "cell_type": "code",
   "execution_count": 7,
   "metadata": {},
   "outputs": [
    {
     "data": {
      "text/plain": [
       "[[],\n",
       " [],\n",
       " [58],\n",
       " [],\n",
       " [],\n",
       " [],\n",
       " [17],\n",
       " [6],\n",
       " [],\n",
       " [],\n",
       " [],\n",
       " [],\n",
       " [],\n",
       " [],\n",
       " [],\n",
       " [],\n",
       " [17],\n",
       " [],\n",
       " [],\n",
       " [],\n",
       " [],\n",
       " [],\n",
       " [],\n",
       " [],\n",
       " [],\n",
       " [],\n",
       " [],\n",
       " [],\n",
       " [],\n",
       " [6],\n",
       " [],\n",
       " [],\n",
       " [],\n",
       " [6],\n",
       " [],\n",
       " [],\n",
       " [],\n",
       " [],\n",
       " [17],\n",
       " [],\n",
       " [],\n",
       " []]"
      ]
     },
     "execution_count": 7,
     "metadata": {},
     "output_type": "execute_result"
    }
   ],
   "source": [
    "tokenizer.texts_to_sequences(corpus[0])"
   ]
  },
  {
   "cell_type": "markdown",
   "metadata": {},
   "source": [
    "This happened because `texts_to_sequences` expects a LIST and we are providing a STRING. However a string is still and `iterable` in Python so we will get the word index of every character in the string.\n",
    "\n",
    "Instead we need to place the example whithin a list before passing it to the method:"
   ]
  },
  {
   "cell_type": "code",
   "execution_count": 8,
   "metadata": {},
   "outputs": [
    {
     "data": {
      "text/plain": [
       "[[34, 417, 877, 166, 213, 517]]"
      ]
     },
     "execution_count": 8,
     "metadata": {},
     "output_type": "execute_result"
    }
   ],
   "source": [
    "tokenizer.texts_to_sequences([corpus[0]])"
   ]
  },
  {
   "cell_type": "markdown",
   "metadata": {},
   "source": [
    "Notice that we received the sequence wrapped inside a list so in order to get only the desired sequence we need to explicitly get the first item in the list like this:"
   ]
  },
  {
   "cell_type": "code",
   "execution_count": 9,
   "metadata": {},
   "outputs": [
    {
     "data": {
      "text/plain": [
       "[34, 417, 877, 166, 213, 517]"
      ]
     },
     "execution_count": 9,
     "metadata": {},
     "output_type": "execute_result"
    }
   ],
   "source": [
    "tokenizer.texts_to_sequences([corpus[0]])[0]"
   ]
  },
  {
   "cell_type": "markdown",
   "metadata": {},
   "source": [
    "#### Generating n_grams (subphrases)\n",
    "\n",
    "Now complete the `n_gram_seqs` function below. This function receives the fitted tokenizer and the corpus (which is a list of strings) and should return a list containing the `n_gram` sequences for each line in the corpus:"
   ]
  },
  {
   "cell_type": "code",
   "execution_count": 10,
   "metadata": {},
   "outputs": [],
   "source": [
    "def n_gram_seqs(corpus, tokenizer):\n",
    "    \"\"\"\n",
    "    Generates a list of n-gram sequences\n",
    "\n",
    "    Args:\n",
    "        corpus (list of string): lines of texts to generate n-grams for\n",
    "        tokenizer (object): an instance of the Tokenizer class containing the word-index dictionary\n",
    "\n",
    "    Returns:\n",
    "        input_sequences (list of int): the n-gram sequences for each line in the corpus\n",
    "    \"\"\"\n",
    "    input_sequences = []\n",
    "\n",
    "    # Loop over every line\n",
    "    for line in corpus:\n",
    "\n",
    "\t    # Tokenize the current line\n",
    "\t    token_list = tokenizer.texts_to_sequences([line])[0]\n",
    "\n",
    "\t    # Loop over the line several times to generate the subphrases\n",
    "\t    for i in range(1, len(token_list)):\n",
    "\n",
    "\t\t    # Generate the subphrase\n",
    "\t\t    n_gram_sequence = token_list[:i+1]\n",
    "\n",
    "\t\t    # Append the subphrase to the sequences list\n",
    "\t\t    input_sequences.append(n_gram_sequence)\n",
    "\n",
    "    return input_sequences"
   ]
  },
  {
   "cell_type": "code",
   "execution_count": 13,
   "metadata": {},
   "outputs": [
    {
     "name": "stdout",
     "output_type": "stream",
     "text": [
      "n_gram sequences for first example look like this:\n",
      "\n"
     ]
    },
    {
     "data": {
      "text/plain": [
       "[[34, 417],\n",
       " [34, 417, 877],\n",
       " [34, 417, 877, 166],\n",
       " [34, 417, 877, 166, 213],\n",
       " [34, 417, 877, 166, 213, 517]]"
      ]
     },
     "execution_count": 13,
     "metadata": {},
     "output_type": "execute_result"
    }
   ],
   "source": [
    "# Test our function with one example (one raw)\n",
    "first_example_sequence = n_gram_seqs([corpus[0]], tokenizer)\n",
    "\n",
    "print(\"n_gram sequences for first example look like this:\\n\")\n",
    "first_example_sequence"
   ]
  },
  {
   "cell_type": "code",
   "execution_count": 14,
   "metadata": {},
   "outputs": [
    {
     "name": "stdout",
     "output_type": "stream",
     "text": [
      "n_gram sequences for next 3 examples look like this:\n",
      "\n"
     ]
    },
    {
     "data": {
      "text/plain": [
       "[[8, 878],\n",
       " [8, 878, 134],\n",
       " [8, 878, 134, 351],\n",
       " [8, 878, 134, 351, 102],\n",
       " [8, 878, 134, 351, 102, 156],\n",
       " [8, 878, 134, 351, 102, 156, 199],\n",
       " [16, 22],\n",
       " [16, 22, 2],\n",
       " [16, 22, 2, 879],\n",
       " [16, 22, 2, 879, 61],\n",
       " [16, 22, 2, 879, 61, 30],\n",
       " [16, 22, 2, 879, 61, 30, 48],\n",
       " [16, 22, 2, 879, 61, 30, 48, 634],\n",
       " [25, 311],\n",
       " [25, 311, 635],\n",
       " [25, 311, 635, 102],\n",
       " [25, 311, 635, 102, 200],\n",
       " [25, 311, 635, 102, 200, 25],\n",
       " [25, 311, 635, 102, 200, 25, 278]]"
      ]
     },
     "execution_count": 14,
     "metadata": {},
     "output_type": "execute_result"
    }
   ],
   "source": [
    "# Test our function with a bigger corpus (three raws)\n",
    "next_3_examples_sequence = n_gram_seqs(corpus[1:4], tokenizer)\n",
    "\n",
    "print(\"n_gram sequences for next 3 examples look like this:\\n\")\n",
    "next_3_examples_sequence"
   ]
  },
  {
   "cell_type": "markdown",
   "metadata": {},
   "source": [
    "Apply the `n_gram_seqs` transformation to the whole corpus and save the maximum sequence length to use it later:"
   ]
  },
  {
   "cell_type": "code",
   "execution_count": 15,
   "metadata": {},
   "outputs": [
    {
     "name": "stdout",
     "output_type": "stream",
     "text": [
      "n_grams of input_sequences have length: 15462\n",
      "maximum length of sequences is: 11\n"
     ]
    }
   ],
   "source": [
    "# Apply the n_gram_seqs transformation to the whole corpus\n",
    "input_sequences = n_gram_seqs(corpus, tokenizer)\n",
    "\n",
    "# Save max length\n",
    "max_sequence_len = max([len(x) for x in input_sequences])\n",
    "\n",
    "print(f\"n_grams of input_sequences have length: {len(input_sequences)}\")\n",
    "print(f\"maximum length of sequences is: {max_sequence_len}\")"
   ]
  },
  {
   "cell_type": "markdown",
   "metadata": {},
   "source": [
    "#### Add padding to the sequences\n",
    "\n",
    "Now code the `pad_seqs` function which will pad any given sequences to the desired maximum length. Notice that this function receives a list of sequences and should return a numpy array with the padded sequences:"
   ]
  },
  {
   "cell_type": "code",
   "execution_count": 18,
   "metadata": {},
   "outputs": [],
   "source": [
    "def pad_seqs(input_sequences, maxlen):\n",
    "    \"\"\"\n",
    "    Pads tokenized sequences to the same length\n",
    "\n",
    "    Args:\n",
    "        input_sequences (list of int): tokenized sequences to pad\n",
    "        maxlen (int): maximum length of the token sequences\n",
    "\n",
    "    Returns:\n",
    "        padded_sequences (array of int): tokenized sequences padded to the same length\n",
    "    \"\"\"\n",
    "\n",
    "    padded_sequences = pad_sequences(input_sequences, maxlen=maxlen)\n",
    "\n",
    "    return padded_sequences"
   ]
  },
  {
   "cell_type": "code",
   "execution_count": 20,
   "metadata": {},
   "outputs": [
    {
     "data": {
      "text/plain": [
       "array([[  0,   0,   0,   0,  34, 417],\n",
       "       [  0,   0,   0,  34, 417, 877],\n",
       "       [  0,   0,  34, 417, 877, 166],\n",
       "       [  0,  34, 417, 877, 166, 213],\n",
       "       [ 34, 417, 877, 166, 213, 517]])"
      ]
     },
     "execution_count": 20,
     "metadata": {},
     "output_type": "execute_result"
    }
   ],
   "source": [
    "# Test our function with the n_grams_seq of the first example (subphrases from first raw)\n",
    "first_padded_seq = pad_seqs(first_example_sequence, max([len(x) for x in first_example_sequence]))\n",
    "first_padded_seq"
   ]
  },
  {
   "cell_type": "code",
   "execution_count": 21,
   "metadata": {},
   "outputs": [
    {
     "data": {
      "text/plain": [
       "array([[  0,   0,   0,   0,   0,   0,   8, 878],\n",
       "       [  0,   0,   0,   0,   0,   8, 878, 134],\n",
       "       [  0,   0,   0,   0,   8, 878, 134, 351],\n",
       "       [  0,   0,   0,   8, 878, 134, 351, 102],\n",
       "       [  0,   0,   8, 878, 134, 351, 102, 156],\n",
       "       [  0,   8, 878, 134, 351, 102, 156, 199],\n",
       "       [  0,   0,   0,   0,   0,   0,  16,  22],\n",
       "       [  0,   0,   0,   0,   0,  16,  22,   2],\n",
       "       [  0,   0,   0,   0,  16,  22,   2, 879],\n",
       "       [  0,   0,   0,  16,  22,   2, 879,  61],\n",
       "       [  0,   0,  16,  22,   2, 879,  61,  30],\n",
       "       [  0,  16,  22,   2, 879,  61,  30,  48],\n",
       "       [ 16,  22,   2, 879,  61,  30,  48, 634],\n",
       "       [  0,   0,   0,   0,   0,   0,  25, 311],\n",
       "       [  0,   0,   0,   0,   0,  25, 311, 635],\n",
       "       [  0,   0,   0,   0,  25, 311, 635, 102],\n",
       "       [  0,   0,   0,  25, 311, 635, 102, 200],\n",
       "       [  0,   0,  25, 311, 635, 102, 200,  25],\n",
       "       [  0,  25, 311, 635, 102, 200,  25, 278]])"
      ]
     },
     "execution_count": 21,
     "metadata": {},
     "output_type": "execute_result"
    }
   ],
   "source": [
    "# Test your function with the n_grams_seq of the next 3 examples (subphrases from three raws)\n",
    "next_3_padded_seq = pad_seqs(next_3_examples_sequence, max([len(s) for s in next_3_examples_sequence]))\n",
    "next_3_padded_seq"
   ]
  },
  {
   "cell_type": "code",
   "execution_count": 22,
   "metadata": {},
   "outputs": [
    {
     "name": "stdout",
     "output_type": "stream",
     "text": [
      "padded corpus has shape: (15462, 11)\n"
     ]
    }
   ],
   "source": [
    "# Pad the whole corpus\n",
    "input_sequences = pad_seqs(input_sequences, max_sequence_len)\n",
    "\n",
    "print(f\"padded corpus has shape: {input_sequences.shape}\")"
   ]
  },
  {
   "cell_type": "markdown",
   "metadata": {},
   "source": [
    "#### Split the data into features and labels\n",
    "\n",
    "Before feeding the data into the neural network we should split it into features and labels. In this case the features will be the padded n_gram sequences with the last word removed from them and the labels will be the removed word.\n",
    "\n",
    "We need to complete the `features_and_labels` function below. This function expects the padded n_gram sequences as input and should return a tuple containing the features and the one hot encoded labels.\n",
    "\n",
    "Notice that the function also receives the total of words in the corpus, this parameter will be very important when one hot enconding the labels since every word in the corpus will be a label at least once. If we need a refresh of how the `to_categorical` function works take a look at the [docs](https://www.tensorflow.org/api_docs/python/tf/keras/utils/to_categorical)"
   ]
  },
  {
   "cell_type": "code",
   "execution_count": 24,
   "metadata": {},
   "outputs": [],
   "source": [
    "def features_and_labels(input_sequences, total_words):\n",
    "    \"\"\"\n",
    "    Generates features and labels from n-grams\n",
    "\n",
    "    Args:\n",
    "        input_sequences (list of int): sequences to split features and labels from\n",
    "        total_words (int): vocabulary size\n",
    "\n",
    "    Returns:\n",
    "        features, one_hot_labels (array of int, array of int): arrays of features and one-hot encoded labels\n",
    "    \"\"\"\n",
    "    \n",
    "    # Create inputs by splitting the last token in the subphrases\n",
    "    features = input_sequences[:,:-1]\n",
    "\n",
    "    # Create labels by splitting the last token in the subphrases\n",
    "    labels = input_sequences[:,-1]\n",
    "\n",
    "    # Convert the label into one-hot arrays\n",
    "    one_hot_labels = to_categorical(labels, num_classes=total_words)\n",
    "\n",
    "    return features, one_hot_labels"
   ]
  },
  {
   "cell_type": "code",
   "execution_count": 25,
   "metadata": {},
   "outputs": [
    {
     "name": "stdout",
     "output_type": "stream",
     "text": [
      "labels have shape: (5, 3211)\n",
      "\n",
      "features look like this:\n",
      "\n"
     ]
    },
    {
     "data": {
      "text/plain": [
       "array([[  0,   0,   0,   0,  34],\n",
       "       [  0,   0,   0,  34, 417],\n",
       "       [  0,   0,  34, 417, 877],\n",
       "       [  0,  34, 417, 877, 166],\n",
       "       [ 34, 417, 877, 166, 213]])"
      ]
     },
     "execution_count": 25,
     "metadata": {},
     "output_type": "execute_result"
    }
   ],
   "source": [
    "# Test your function with the padded n_grams_seq of the first example\n",
    "first_features, first_labels = features_and_labels(first_padded_seq, total_words)\n",
    "\n",
    "print(f\"labels have shape: {first_labels.shape}\")\n",
    "print(\"\\nfeatures look like this:\\n\")\n",
    "first_features"
   ]
  },
  {
   "cell_type": "code",
   "execution_count": 26,
   "metadata": {},
   "outputs": [
    {
     "name": "stdout",
     "output_type": "stream",
     "text": [
      "features have shape: (15462, 10)\n",
      "labels have shape: (15462, 3211)\n"
     ]
    }
   ],
   "source": [
    "# Split the whole corpus\n",
    "features, labels = features_and_labels(input_sequences, total_words)\n",
    "\n",
    "print(f\"features have shape: {features.shape}\")\n",
    "print(f\"labels have shape: {labels.shape}\")"
   ]
  },
  {
   "cell_type": "markdown",
   "metadata": {},
   "source": [
    "#### Create the model\n",
    "\n",
    "Now we should define a model architecture capable of achieving an accuracy of at least 80%.\n",
    "\n",
    "To reach this task we should take the following considerations into account:\n",
    "\n",
    "- An appropriate `output_dim` for the first layer (Embedding) is 100.\n",
    "- A Bidirectional LSTM is helpful for this particular problem.\n",
    "- The last layer should have the same number of units as the total number of words in the corpus and a softmax activation function.\n",
    "- The problem can be solved with only two layers (excluding the Embedding) so try out small architectures first."
   ]
  },
  {
   "cell_type": "code",
   "execution_count": 27,
   "metadata": {},
   "outputs": [],
   "source": [
    "def create_model(total_words, max_sequence_len):\n",
    "    \"\"\"\n",
    "    Creates a text generator model\n",
    "\n",
    "    Args:\n",
    "        total_words (int): size of the vocabulary for the Embedding layer input\n",
    "        max_sequence_len (int): length of the input sequences\n",
    "\n",
    "    Returns:\n",
    "        model (tf.keras Model): the text generator model\n",
    "    \"\"\"\n",
    "    model = Sequential()\n",
    "\n",
    "    model.add(Embedding(total_words, 100, input_length=max_sequence_len-1))\n",
    "    model.add(Bidirectional(LSTM(150)))\n",
    "    model.add(Dense(total_words, activation='softmax'))\n",
    "\n",
    "    # Compile the model\n",
    "    model.compile(loss='categorical_crossentropy',\n",
    "                  optimizer='adam',\n",
    "                  metrics=['accuracy'])\n",
    "\n",
    "    return model"
   ]
  },
  {
   "cell_type": "code",
   "execution_count": 28,
   "metadata": {},
   "outputs": [
    {
     "name": "stdout",
     "output_type": "stream",
     "text": [
      "Epoch 1/50\n",
      "484/484 [==============================] - 20s 33ms/step - loss: 6.8853 - accuracy: 0.0242\n",
      "Epoch 2/50\n",
      "484/484 [==============================] - 16s 33ms/step - loss: 6.4269 - accuracy: 0.0316\n",
      "Epoch 3/50\n",
      "484/484 [==============================] - 16s 34ms/step - loss: 6.1755 - accuracy: 0.0440\n",
      "Epoch 4/50\n",
      "484/484 [==============================] - 17s 35ms/step - loss: 5.8932 - accuracy: 0.0555\n",
      "Epoch 5/50\n",
      "484/484 [==============================] - 17s 36ms/step - loss: 5.5761 - accuracy: 0.0663\n",
      "Epoch 6/50\n",
      "484/484 [==============================] - 17s 36ms/step - loss: 5.2262 - accuracy: 0.0801\n",
      "Epoch 7/50\n",
      "484/484 [==============================] - 15s 31ms/step - loss: 4.8457 - accuracy: 0.0982\n",
      "Epoch 8/50\n",
      "484/484 [==============================] - 16s 33ms/step - loss: 4.4475 - accuracy: 0.1343\n",
      "Epoch 9/50\n",
      "484/484 [==============================] - 16s 33ms/step - loss: 4.0431 - accuracy: 0.1835\n",
      "Epoch 10/50\n",
      "484/484 [==============================] - 17s 36ms/step - loss: 3.6575 - accuracy: 0.2476\n",
      "Epoch 11/50\n",
      "484/484 [==============================] - 18s 37ms/step - loss: 3.2922 - accuracy: 0.3148\n",
      "Epoch 12/50\n",
      "484/484 [==============================] - 18s 37ms/step - loss: 2.9593 - accuracy: 0.3730\n",
      "Epoch 13/50\n",
      "484/484 [==============================] - 17s 34ms/step - loss: 2.6726 - accuracy: 0.4326\n",
      "Epoch 14/50\n",
      "484/484 [==============================] - 18s 36ms/step - loss: 2.4158 - accuracy: 0.4843\n",
      "Epoch 15/50\n",
      "484/484 [==============================] - 17s 36ms/step - loss: 2.1868 - accuracy: 0.5343\n",
      "Epoch 16/50\n",
      "484/484 [==============================] - 17s 36ms/step - loss: 1.9813 - accuracy: 0.5790\n",
      "Epoch 17/50\n",
      "484/484 [==============================] - 17s 36ms/step - loss: 1.8035 - accuracy: 0.6195\n",
      "Epoch 18/50\n",
      "484/484 [==============================] - 17s 35ms/step - loss: 1.6445 - accuracy: 0.6537\n",
      "Epoch 19/50\n",
      "484/484 [==============================] - 18s 38ms/step - loss: 1.4979 - accuracy: 0.6863\n",
      "Epoch 20/50\n",
      "484/484 [==============================] - 17s 35ms/step - loss: 1.3730 - accuracy: 0.7159\n",
      "Epoch 21/50\n",
      "484/484 [==============================] - 20s 41ms/step - loss: 1.2545 - accuracy: 0.7409\n",
      "Epoch 22/50\n",
      "484/484 [==============================] - 19s 40ms/step - loss: 1.1602 - accuracy: 0.7592\n",
      "Epoch 23/50\n",
      "484/484 [==============================] - 18s 38ms/step - loss: 1.0747 - accuracy: 0.7780\n",
      "Epoch 24/50\n",
      "484/484 [==============================] - 20s 42ms/step - loss: 1.0018 - accuracy: 0.7931\n",
      "Epoch 25/50\n",
      "484/484 [==============================] - 19s 40ms/step - loss: 0.9312 - accuracy: 0.8078\n",
      "Epoch 26/50\n",
      "484/484 [==============================] - 18s 36ms/step - loss: 0.8796 - accuracy: 0.8155\n",
      "Epoch 27/50\n",
      "484/484 [==============================] - 19s 40ms/step - loss: 0.8351 - accuracy: 0.8217\n",
      "Epoch 28/50\n",
      "484/484 [==============================] - 19s 39ms/step - loss: 0.7920 - accuracy: 0.8286\n",
      "Epoch 29/50\n",
      "484/484 [==============================] - 19s 39ms/step - loss: 0.7589 - accuracy: 0.8340\n",
      "Epoch 30/50\n",
      "484/484 [==============================] - 19s 39ms/step - loss: 0.7317 - accuracy: 0.8363\n",
      "Epoch 31/50\n",
      "484/484 [==============================] - 19s 39ms/step - loss: 0.7105 - accuracy: 0.8379\n",
      "Epoch 32/50\n",
      "484/484 [==============================] - 19s 39ms/step - loss: 0.6882 - accuracy: 0.8411\n",
      "Epoch 33/50\n",
      "484/484 [==============================] - 18s 38ms/step - loss: 0.6668 - accuracy: 0.8436\n",
      "Epoch 34/50\n",
      "484/484 [==============================] - 19s 39ms/step - loss: 0.6593 - accuracy: 0.8439\n",
      "Epoch 35/50\n",
      "484/484 [==============================] - 20s 42ms/step - loss: 0.6467 - accuracy: 0.8436\n",
      "Epoch 36/50\n",
      "484/484 [==============================] - 20s 40ms/step - loss: 0.6358 - accuracy: 0.8458\n",
      "Epoch 37/50\n",
      "484/484 [==============================] - 17s 36ms/step - loss: 0.6285 - accuracy: 0.8459\n",
      "Epoch 38/50\n",
      "484/484 [==============================] - 17s 36ms/step - loss: 0.6196 - accuracy: 0.8475\n",
      "Epoch 39/50\n",
      "484/484 [==============================] - 20s 41ms/step - loss: 0.6120 - accuracy: 0.8472\n",
      "Epoch 40/50\n",
      "484/484 [==============================] - 20s 42ms/step - loss: 0.6064 - accuracy: 0.8476\n",
      "Epoch 41/50\n",
      "484/484 [==============================] - 21s 44ms/step - loss: 0.5962 - accuracy: 0.8500\n",
      "Epoch 42/50\n",
      "484/484 [==============================] - 20s 41ms/step - loss: 0.5953 - accuracy: 0.8485\n",
      "Epoch 43/50\n",
      "484/484 [==============================] - 22s 44ms/step - loss: 0.5927 - accuracy: 0.8483\n",
      "Epoch 44/50\n",
      "484/484 [==============================] - 22s 45ms/step - loss: 0.5858 - accuracy: 0.8478\n",
      "Epoch 45/50\n",
      "484/484 [==============================] - 21s 44ms/step - loss: 0.5823 - accuracy: 0.8476\n",
      "Epoch 46/50\n",
      "484/484 [==============================] - 20s 42ms/step - loss: 0.5800 - accuracy: 0.8489\n",
      "Epoch 47/50\n",
      "484/484 [==============================] - 20s 41ms/step - loss: 0.5736 - accuracy: 0.8496\n",
      "Epoch 48/50\n",
      "484/484 [==============================] - 19s 39ms/step - loss: 0.5764 - accuracy: 0.8474\n",
      "Epoch 49/50\n",
      "484/484 [==============================] - 19s 40ms/step - loss: 0.5700 - accuracy: 0.8500\n",
      "Epoch 50/50\n",
      "484/484 [==============================] - 19s 40ms/step - loss: 0.5654 - accuracy: 0.8489\n"
     ]
    }
   ],
   "source": [
    "# Get the untrained model\n",
    "model = create_model(total_words, max_sequence_len)\n",
    "\n",
    "# Train the model\n",
    "history = model.fit(features, labels, epochs=50, verbose=1)"
   ]
  },
  {
   "cell_type": "markdown",
   "metadata": {},
   "source": [
    "#### Evaluate the model"
   ]
  },
  {
   "cell_type": "code",
   "execution_count": null,
   "metadata": {},
   "outputs": [],
   "source": [
    "# Take a look at the training curves of your model\n",
    "\n",
    "acc = history.history['accuracy']\n",
    "loss = history.history['loss']\n",
    "\n",
    "epochs = range(len(acc))\n",
    "\n",
    "plt.plot(epochs, acc, 'b', label='Training accuracy')\n",
    "plt.title('Training accuracy')\n",
    "\n",
    "plt.figure()\n",
    "\n",
    "plt.plot(epochs, loss, 'b', label='Training Loss')\n",
    "plt.title('Training loss')\n",
    "plt.legend()\n",
    "\n",
    "plt.show()"
   ]
  },
  {
   "cell_type": "markdown",
   "metadata": {},
   "source": [
    "### 3.4. Testing"
   ]
  },
  {
   "cell_type": "markdown",
   "metadata": {},
   "source": [
    "#### See your model in action\n",
    "\n",
    "After our model was built let's play with it by generating the next 25 words of a seed text."
   ]
  },
  {
   "cell_type": "code",
   "execution_count": 30,
   "metadata": {},
   "outputs": [
    {
     "name": "stdout",
     "output_type": "stream",
     "text": [
      "Help me Obi Wan Kenobi, you're my only hope to another fair place doth tell my glory be it is new old 'will ' still to be fire your\n"
     ]
    }
   ],
   "source": [
    "## Feed the text to generate the next 20 words\n",
    "seed_text = \"Help me Obi Wan Kenobi, you're my only hope\"\n",
    "next_words = 20\n",
    "\n",
    "for _ in range(next_words):\n",
    "    # Convert the text into sequences\n",
    "    token_list = tokenizer.texts_to_sequences([seed_text])[0]\n",
    "    # Pad the sequences\n",
    "    token_list = pad_sequences([token_list], maxlen=max_sequence_len-1, padding='pre')\n",
    "    # Get the probabilities of predicting a word\n",
    "    predicted = model.predict(token_list, verbose=0)\n",
    "    # Choose the next word based on the maximum probability\n",
    "    predicted = np.argmax(predicted, axis=-1).item()\n",
    "    # Get the actual word from the word index\n",
    "    output_word = tokenizer.index_word[predicted]\n",
    "    # Append to the current text\n",
    "    seed_text += \" \" + output_word\n",
    "\n",
    "print(seed_text)"
   ]
  },
  {
   "cell_type": "markdown",
   "metadata": {},
   "source": [
    "## 4. NLP Recognizer"
   ]
  },
  {
   "cell_type": "markdown",
   "metadata": {},
   "source": [
    "### 4.1. Problem statement\n",
    "\n",
    "The objective of this subproject is to build and train a classifier for detecting sarcasm in text using a given sarcasm dataset. The model will be evaluated on its ability to correctly identify sarcasm in a set of sentences that it has not encountered during training. The performance of the classifier will be scored based on its accuracy in detecting sarcastic sentiment in these unseen sentences."
   ]
  },
  {
   "cell_type": "markdown",
   "metadata": {},
   "source": [
    "### 4.2. Load and inspect the data"
   ]
  },
  {
   "cell_type": "code",
   "execution_count": 31,
   "metadata": {},
   "outputs": [],
   "source": [
    "# Define empty lists with sentences and corresponding labels for them\n",
    "sentences = []\n",
    "labels = []\n",
    "\n",
    "# Set path for sarcasm data set\n",
    "path = 'https://raw.githubusercontent.com/Chuvard/NLP_generator_and_detector/main/data/sarcasm.json'\n",
    "\n",
    "# Fetch the data from the URL\n",
    "response = requests.get(path)\n",
    "datastore = response.json()\n",
    "\n",
    "# Add labels and sentences\n",
    "for item in datastore:\n",
    "    sentences.append(item['headline'].lower())\n",
    "    labels.append(item['is_sarcastic'])\n",
    "\n",
    "# Define the size for the training set\n",
    "training_size = int(len(sentences) * 0.8)\n",
    "\n",
    "# Split the sentences\n",
    "training_sentences = sentences[:training_size]\n",
    "testing_sentences = sentences[training_size:]\n",
    "\n",
    "# Split the labels\n",
    "training_labels = labels[:training_size]\n",
    "testing_labels = labels[training_size:]"
   ]
  },
  {
   "cell_type": "code",
   "execution_count": 32,
   "metadata": {},
   "outputs": [
    {
     "name": "stdout",
     "output_type": "stream",
     "text": [
      "Total sentences: 26709\n",
      "Training sentences: 21367\n",
      "Testing sentences: 5342\n"
     ]
    }
   ],
   "source": [
    "## Inspect the data\n",
    "print(f\"Total sentences: {len(sentences)}\")\n",
    "print(f\"Training sentences: {len(training_sentences)}\")\n",
    "print(f\"Testing sentences: {len(testing_sentences)}\")"
   ]
  },
  {
   "cell_type": "markdown",
   "metadata": {},
   "source": [
    "### 4.3. Model construction"
   ]
  },
  {
   "cell_type": "markdown",
   "metadata": {},
   "source": [
    "#### Set hyperparametrs"
   ]
  },
  {
   "cell_type": "code",
   "execution_count": 36,
   "metadata": {},
   "outputs": [],
   "source": [
    "# Set hyperparameters\n",
    "vocab_size = 1000          # The number of words to keep in the vocabulary\n",
    "embedding_dim = 16         # Dimension of the embedding vectors\n",
    "max_length = 120           # Maximum length of input sequences\n",
    "trunc_type = 'post'        # Truncate sequences after the max_length\n",
    "padding_type = 'post'      # Pad sequences after the end of the sequence\n",
    "oov_tok = \"<OOV>\"          # Token to represent out-of-vocabulary words\n",
    "training_size = 20000      # Size of the training data"
   ]
  },
  {
   "cell_type": "markdown",
   "metadata": {},
   "source": [
    "#### Preprocessing the train and test sets"
   ]
  },
  {
   "cell_type": "code",
   "execution_count": 35,
   "metadata": {},
   "outputs": [],
   "source": [
    "# Initialize the Tokenizer class\n",
    "tokenizer = Tokenizer(num_words=vocab_size, oov_token=oov_tok)\n",
    "\n",
    "# Generate the word index dictionary\n",
    "tokenizer.fit_on_texts(training_sentences)\n",
    "word_index = tokenizer.word_index\n",
    "\n",
    "# Generate and pad the training sequences\n",
    "training_sequences = tokenizer.texts_to_sequences(training_sentences)\n",
    "training_padded = pad_sequences(training_sequences, maxlen=max_length, padding=padding_type, truncating=trunc_type)\n",
    "\n",
    "# Generate and pad the testing sequences\n",
    "testing_sequences = tokenizer.texts_to_sequences(testing_sentences)\n",
    "testing_padded = pad_sequences(testing_sequences, maxlen=max_length, padding=padding_type, truncating=trunc_type)\n",
    "\n",
    "# Convert the labels lists into numpy arrays\n",
    "training_labels = np.array(training_labels)\n",
    "testing_labels = np.array(testing_labels)"
   ]
  },
  {
   "cell_type": "markdown",
   "metadata": {},
   "source": [
    "#### Train a model"
   ]
  },
  {
   "cell_type": "code",
   "execution_count": 37,
   "metadata": {},
   "outputs": [],
   "source": [
    "# Define the architecture the model\n",
    "model = tf.keras.Sequential([\n",
    "    tf.keras.layers.Embedding(vocab_size, embedding_dim, input_length=max_length),\n",
    "    tf.keras.layers.Bidirectional(tf.keras.layers.LSTM(32, return_sequences=True)),\n",
    "    tf.keras.layers.Bidirectional(tf.keras.layers.LSTM(32)),\n",
    "    tf.keras.layers.Dense(16, activation='relu'),\n",
    "    tf.keras.layers.Dense(1, activation='sigmoid')\n",
    "])"
   ]
  },
  {
   "cell_type": "code",
   "execution_count": 38,
   "metadata": {},
   "outputs": [
    {
     "name": "stdout",
     "output_type": "stream",
     "text": [
      "Model: \"sequential_1\"\n",
      "_________________________________________________________________\n",
      " Layer (type)                Output Shape              Param #   \n",
      "=================================================================\n",
      " embedding_1 (Embedding)     (None, 120, 16)           16000     \n",
      "                                                                 \n",
      " bidirectional_1 (Bidirecti  (None, 120, 64)           12544     \n",
      " onal)                                                           \n",
      "                                                                 \n",
      " bidirectional_2 (Bidirecti  (None, 64)                24832     \n",
      " onal)                                                           \n",
      "                                                                 \n",
      " dense_1 (Dense)             (None, 16)                1040      \n",
      "                                                                 \n",
      " dense_2 (Dense)             (None, 1)                 17        \n",
      "                                                                 \n",
      "=================================================================\n",
      "Total params: 54433 (212.63 KB)\n",
      "Trainable params: 54433 (212.63 KB)\n",
      "Non-trainable params: 0 (0.00 Byte)\n",
      "_________________________________________________________________\n"
     ]
    }
   ],
   "source": [
    "# Summary the architecture the model\n",
    "model.summary()"
   ]
  },
  {
   "cell_type": "markdown",
   "metadata": {},
   "source": [
    "#### Compile and fit the model"
   ]
  },
  {
   "cell_type": "code",
   "execution_count": 39,
   "metadata": {},
   "outputs": [
    {
     "name": "stdout",
     "output_type": "stream",
     "text": [
      "Epoch 1/20\n",
      "668/668 - 64s - loss: 0.4483 - accuracy: 0.7752 - val_loss: 0.3939 - val_accuracy: 0.8229 - 64s/epoch - 96ms/step\n",
      "Epoch 2/20\n",
      "668/668 - 55s - loss: 0.3545 - accuracy: 0.8383 - val_loss: 0.3739 - val_accuracy: 0.8287 - 55s/epoch - 82ms/step\n",
      "Epoch 3/20\n",
      "668/668 - 56s - loss: 0.3277 - accuracy: 0.8532 - val_loss: 0.3812 - val_accuracy: 0.8220 - 56s/epoch - 84ms/step\n",
      "Epoch 4/20\n",
      "668/668 - 55s - loss: 0.3096 - accuracy: 0.8618 - val_loss: 0.3762 - val_accuracy: 0.8287 - 55s/epoch - 82ms/step\n",
      "Epoch 5/20\n",
      "668/668 - 55s - loss: 0.2979 - accuracy: 0.8691 - val_loss: 0.3716 - val_accuracy: 0.8362 - 55s/epoch - 82ms/step\n",
      "Epoch 6/20\n",
      "668/668 - 54s - loss: 0.2882 - accuracy: 0.8743 - val_loss: 0.3837 - val_accuracy: 0.8261 - 54s/epoch - 81ms/step\n",
      "Epoch 7/20\n",
      "668/668 - 54s - loss: 0.2820 - accuracy: 0.8761 - val_loss: 0.4045 - val_accuracy: 0.8190 - 54s/epoch - 80ms/step\n",
      "Epoch 8/20\n",
      "668/668 - 55s - loss: 0.2732 - accuracy: 0.8815 - val_loss: 0.4073 - val_accuracy: 0.8272 - 55s/epoch - 82ms/step\n",
      "Epoch 9/20\n",
      "668/668 - 63s - loss: 0.2642 - accuracy: 0.8844 - val_loss: 0.4088 - val_accuracy: 0.8238 - 63s/epoch - 94ms/step\n",
      "Epoch 10/20\n",
      "668/668 - 72s - loss: 0.2573 - accuracy: 0.8904 - val_loss: 0.4005 - val_accuracy: 0.8238 - 72s/epoch - 108ms/step\n",
      "Epoch 11/20\n",
      "668/668 - 74s - loss: 0.2499 - accuracy: 0.8929 - val_loss: 0.4282 - val_accuracy: 0.8306 - 74s/epoch - 110ms/step\n",
      "Epoch 12/20\n",
      "668/668 - 70s - loss: 0.2439 - accuracy: 0.8956 - val_loss: 0.4343 - val_accuracy: 0.8248 - 70s/epoch - 105ms/step\n",
      "Epoch 13/20\n",
      "668/668 - 57s - loss: 0.2368 - accuracy: 0.8985 - val_loss: 0.4343 - val_accuracy: 0.8229 - 57s/epoch - 85ms/step\n",
      "Epoch 14/20\n",
      "668/668 - 72s - loss: 0.2298 - accuracy: 0.9034 - val_loss: 0.4365 - val_accuracy: 0.8220 - 72s/epoch - 108ms/step\n",
      "Epoch 15/20\n",
      "668/668 - 64s - loss: 0.2236 - accuracy: 0.9036 - val_loss: 0.4681 - val_accuracy: 0.8199 - 64s/epoch - 96ms/step\n",
      "Epoch 16/20\n",
      "668/668 - 73s - loss: 0.2190 - accuracy: 0.9069 - val_loss: 0.4739 - val_accuracy: 0.8229 - 73s/epoch - 110ms/step\n",
      "Epoch 17/20\n",
      "668/668 - 86s - loss: 0.2099 - accuracy: 0.9117 - val_loss: 0.5125 - val_accuracy: 0.8192 - 86s/epoch - 129ms/step\n",
      "Epoch 18/20\n",
      "668/668 - 83s - loss: 0.2032 - accuracy: 0.9148 - val_loss: 0.5075 - val_accuracy: 0.8218 - 83s/epoch - 125ms/step\n",
      "Epoch 19/20\n",
      "668/668 - 67s - loss: 0.1974 - accuracy: 0.9169 - val_loss: 0.5792 - val_accuracy: 0.8194 - 67s/epoch - 101ms/step\n",
      "Epoch 20/20\n",
      "668/668 - 54s - loss: 0.1904 - accuracy: 0.9189 - val_loss: 0.5910 - val_accuracy: 0.8192 - 54s/epoch - 81ms/step\n"
     ]
    }
   ],
   "source": [
    "# Training the model with following loss and optimization functions\n",
    "model.compile(loss='binary_crossentropy', optimizer='adam', metrics=['accuracy'])\n",
    "num_epochs = 20\n",
    "\n",
    "# Fit the model on the training data and evaluate it on the validation data\n",
    "history = model.fit(training_padded, training_labels, epochs=num_epochs,\n",
    "                        validation_data=(testing_padded, testing_labels), verbose=2)"
   ]
  },
  {
   "cell_type": "markdown",
   "metadata": {},
   "source": [
    "#### Evaluate the model"
   ]
  },
  {
   "cell_type": "code",
   "execution_count": 40,
   "metadata": {},
   "outputs": [
    {
     "name": "stdout",
     "output_type": "stream",
     "text": [
      "Average Training Accuracy: 0.8833855956792831\n",
      "Average Validation Accuracy: 0.8240546584129333\n"
     ]
    }
   ],
   "source": [
    "# Extract accuracy values from the training history\n",
    "training_accuracy = history.history['accuracy']\n",
    "validation_accuracy = history.history['val_accuracy']\n",
    "\n",
    "# Calculate average accuracy\n",
    "average_training_accuracy = sum(training_accuracy) / len(training_accuracy)\n",
    "average_validation_accuracy = sum(validation_accuracy) / len(validation_accuracy)\n",
    "\n",
    "# Print or use the average accuracies as needed\n",
    "print(f'Average Training Accuracy: {average_training_accuracy}')\n",
    "print(f'Average Validation Accuracy: {average_validation_accuracy}')"
   ]
  },
  {
   "cell_type": "markdown",
   "metadata": {},
   "source": [
    "### 4.4. Testing"
   ]
  },
  {
   "cell_type": "code",
   "execution_count": 41,
   "metadata": {},
   "outputs": [
    {
     "name": "stdout",
     "output_type": "stream",
     "text": [
      "1/1 [==============================] - 1s 1s/step\n",
      "Text: \"This is a normal sentence.\" is Not Sarcasm\n",
      "1/1 [==============================] - 0s 37ms/step\n",
      "Text: \"Well, that's just great.\" is Sarcasm\n",
      "1/1 [==============================] - 0s 37ms/step\n",
      "Text: \"Oh, what a surprise!\" is Not Sarcasm\n",
      "1/1 [==============================] - 0s 41ms/step\n",
      "Text: \"Scientists confirm that water is wet. Brilliant!\" is Sarcasm\n",
      "1/1 [==============================] - 0s 37ms/step\n",
      "Text: \"Sure, because that makes total sense.\" is Sarcasm\n"
     ]
    }
   ],
   "source": [
    "def predict_sarcasm(text):\n",
    "    # Convert text to lowercase\n",
    "    text = text.lower()\n",
    "\n",
    "    # Tokenize and pad the input text\n",
    "    sequence = tokenizer.texts_to_sequences([text])\n",
    "    padded_sequence = pad_sequences(sequence, maxlen=max_length, padding=padding_type, truncating=trunc_type)\n",
    "\n",
    "    # Make prediction\n",
    "    prediction = model.predict(padded_sequence)\n",
    "\n",
    "    # Return True if prediction is above a certain threshold (adjust as needed)\n",
    "    return prediction[0, 0] > 0.5\n",
    "\n",
    "# Test the model with some examples\n",
    "test_texts = [\n",
    "    \"This is a normal sentence.\",\n",
    "    \"Well, that's just great.\",\n",
    "    \"Oh, what a surprise!\",\n",
    "    \"Scientists confirm that water is wet. Brilliant!\",\n",
    "    \"Sure, because that makes total sense.\"\n",
    "]\n",
    "\n",
    "for text in test_texts:\n",
    "    is_sarcasm = predict_sarcasm(text)\n",
    "    sarcasm_label = \"Sarcasm\" if is_sarcasm else \"Not Sarcasm\"\n",
    "    print(f'Text: \"{text}\" is {sarcasm_label}')"
   ]
  }
 ],
 "metadata": {
  "kernelspec": {
   "display_name": "base",
   "language": "python",
   "name": "python3"
  },
  "language_info": {
   "codemirror_mode": {
    "name": "ipython",
    "version": 3
   },
   "file_extension": ".py",
   "mimetype": "text/x-python",
   "name": "python",
   "nbconvert_exporter": "python",
   "pygments_lexer": "ipython3",
   "version": "3.11.5"
  }
 },
 "nbformat": 4,
 "nbformat_minor": 2
}
